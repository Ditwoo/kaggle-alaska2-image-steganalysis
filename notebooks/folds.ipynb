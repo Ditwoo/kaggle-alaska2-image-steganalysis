{
 "cells": [
  {
   "cell_type": "code",
   "execution_count": 1,
   "metadata": {},
   "outputs": [],
   "source": [
    "import glob\n",
    "import pandas as ps\n",
    "from sklearn.model_selection import StratifiedKFold"
   ]
  },
  {
   "cell_type": "code",
   "execution_count": 2,
   "metadata": {},
   "outputs": [
    {
     "name": "stdout",
     "output_type": "stream",
     "text": [
      "75000 ['../data/resized_data/Cover/28292.jpg', '../data/resized_data/Cover/75205.jpg']\n"
     ]
    }
   ],
   "source": [
    "cover_images = glob.glob(\"../data/resized_data/Cover/*.jpg\")\n",
    "\n",
    "print(len(cover_images), cover_images[:2])"
   ]
  },
  {
   "cell_type": "code",
   "execution_count": 3,
   "metadata": {},
   "outputs": [
    {
     "name": "stdout",
     "output_type": "stream",
     "text": [
      "75000 ['../data/resized_data/JMiPOD/28292.jpg', '../data/resized_data/JMiPOD/75205.jpg']\n"
     ]
    }
   ],
   "source": [
    "jmipod_images = glob.glob(\"../data/resized_data/JMiPOD/*.jpg\")\n",
    "\n",
    "print(len(jmipod_images), jmipod_images[:2])"
   ]
  },
  {
   "cell_type": "code",
   "execution_count": 4,
   "metadata": {},
   "outputs": [
    {
     "name": "stdout",
     "output_type": "stream",
     "text": [
      "75000 ['../data/resized_data/JUNIWARD/28292.jpg', '../data/resized_data/JUNIWARD/75205.jpg']\n"
     ]
    }
   ],
   "source": [
    "juniward_images = glob.glob(\"../data/resized_data/JUNIWARD/*.jpg\")\n",
    "\n",
    "print(len(juniward_images), juniward_images[:2])"
   ]
  },
  {
   "cell_type": "code",
   "execution_count": 5,
   "metadata": {},
   "outputs": [
    {
     "name": "stdout",
     "output_type": "stream",
     "text": [
      "75000 ['../data/resized_data/UERD/28292.jpg', '../data/resized_data/UERD/75205.jpg']\n"
     ]
    }
   ],
   "source": [
    "uerd_images = glob.glob(\"../data/resized_data/UERD/*.jpg\")\n",
    "\n",
    "print(len(uerd_images), uerd_images[:2])"
   ]
  },
  {
   "cell_type": "code",
   "execution_count": 6,
   "metadata": {},
   "outputs": [
    {
     "name": "stdout",
     "output_type": "stream",
     "text": [
      "(300000, 4)\n"
     ]
    },
    {
     "data": {
      "text/html": [
       "<div>\n",
       "<style scoped>\n",
       "    .dataframe tbody tr th:only-of-type {\n",
       "        vertical-align: middle;\n",
       "    }\n",
       "\n",
       "    .dataframe tbody tr th {\n",
       "        vertical-align: top;\n",
       "    }\n",
       "\n",
       "    .dataframe thead th {\n",
       "        text-align: right;\n",
       "    }\n",
       "</style>\n",
       "<table border=\"1\" class=\"dataframe\">\n",
       "  <thead>\n",
       "    <tr style=\"text-align: right;\">\n",
       "      <th></th>\n",
       "      <th>images</th>\n",
       "      <th>labels</th>\n",
       "      <th>classes</th>\n",
       "      <th>folds</th>\n",
       "    </tr>\n",
       "  </thead>\n",
       "  <tbody>\n",
       "    <tr>\n",
       "      <td>0</td>\n",
       "      <td>data/resized_data/Cover/28292.jpg</td>\n",
       "      <td>0</td>\n",
       "      <td>0</td>\n",
       "      <td>0</td>\n",
       "    </tr>\n",
       "    <tr>\n",
       "      <td>1</td>\n",
       "      <td>data/resized_data/Cover/75205.jpg</td>\n",
       "      <td>0</td>\n",
       "      <td>0</td>\n",
       "      <td>0</td>\n",
       "    </tr>\n",
       "    <tr>\n",
       "      <td>2</td>\n",
       "      <td>data/resized_data/Cover/75472.jpg</td>\n",
       "      <td>0</td>\n",
       "      <td>0</td>\n",
       "      <td>3</td>\n",
       "    </tr>\n",
       "    <tr>\n",
       "      <td>3</td>\n",
       "      <td>data/resized_data/Cover/32819.jpg</td>\n",
       "      <td>0</td>\n",
       "      <td>0</td>\n",
       "      <td>4</td>\n",
       "    </tr>\n",
       "    <tr>\n",
       "      <td>4</td>\n",
       "      <td>data/resized_data/Cover/66313.jpg</td>\n",
       "      <td>0</td>\n",
       "      <td>0</td>\n",
       "      <td>1</td>\n",
       "    </tr>\n",
       "    <tr>\n",
       "      <td>5</td>\n",
       "      <td>data/resized_data/Cover/42993.jpg</td>\n",
       "      <td>0</td>\n",
       "      <td>0</td>\n",
       "      <td>3</td>\n",
       "    </tr>\n",
       "    <tr>\n",
       "      <td>6</td>\n",
       "      <td>data/resized_data/Cover/70794.jpg</td>\n",
       "      <td>0</td>\n",
       "      <td>0</td>\n",
       "      <td>2</td>\n",
       "    </tr>\n",
       "    <tr>\n",
       "      <td>7</td>\n",
       "      <td>data/resized_data/Cover/34805.jpg</td>\n",
       "      <td>0</td>\n",
       "      <td>0</td>\n",
       "      <td>3</td>\n",
       "    </tr>\n",
       "    <tr>\n",
       "      <td>8</td>\n",
       "      <td>data/resized_data/Cover/13039.jpg</td>\n",
       "      <td>0</td>\n",
       "      <td>0</td>\n",
       "      <td>2</td>\n",
       "    </tr>\n",
       "    <tr>\n",
       "      <td>9</td>\n",
       "      <td>data/resized_data/Cover/49177.jpg</td>\n",
       "      <td>0</td>\n",
       "      <td>0</td>\n",
       "      <td>1</td>\n",
       "    </tr>\n",
       "  </tbody>\n",
       "</table>\n",
       "</div>"
      ],
      "text/plain": [
       "                              images  labels  classes  folds\n",
       "0  data/resized_data/Cover/28292.jpg       0        0      0\n",
       "1  data/resized_data/Cover/75205.jpg       0        0      0\n",
       "2  data/resized_data/Cover/75472.jpg       0        0      3\n",
       "3  data/resized_data/Cover/32819.jpg       0        0      4\n",
       "4  data/resized_data/Cover/66313.jpg       0        0      1\n",
       "5  data/resized_data/Cover/42993.jpg       0        0      3\n",
       "6  data/resized_data/Cover/70794.jpg       0        0      2\n",
       "7  data/resized_data/Cover/34805.jpg       0        0      3\n",
       "8  data/resized_data/Cover/13039.jpg       0        0      2\n",
       "9  data/resized_data/Cover/49177.jpg       0        0      1"
      ]
     },
     "execution_count": 6,
     "metadata": {},
     "output_type": "execute_result"
    }
   ],
   "source": [
    "combined = ps.DataFrame.from_dict({\n",
    "    \"images\": cover_images + jmipod_images + juniward_images + uerd_images,\n",
    "    \"labels\": [0] * len(cover_images) + [1] * len(jmipod_images) + [1] * len(juniward_images) + [1] * len(uerd_images),\n",
    "    \"classes\": [0] * len(cover_images) + [1] * len(jmipod_images) + [2] * len(juniward_images) + [3] * len(uerd_images),\n",
    "})\n",
    "combined[\"images\"] = combined[\"images\"].str[3:]\n",
    "combined[\"folds\"] = 0\n",
    "\n",
    "\n",
    "folder = StratifiedKFold(n_splits=5, shuffle=True, random_state=2020)\n",
    "for fold_idx, (_, valid_idx) in enumerate(folder.split(combined[\"images\"], combined[\"labels\"])):\n",
    "    combined.loc[valid_idx, \"folds\"] = fold_idx\n",
    "\n",
    "\n",
    "print(combined.shape)\n",
    "combined.head(10)"
   ]
  },
  {
   "cell_type": "code",
   "execution_count": 7,
   "metadata": {},
   "outputs": [],
   "source": [
    "combined.to_csv(\"../data/combined.csv\", index=False)"
   ]
  },
  {
   "cell_type": "code",
   "execution_count": 8,
   "metadata": {},
   "outputs": [
    {
     "name": "stdout",
     "output_type": "stream",
     "text": [
      "images,labels,classes,folds\n",
      "data/resized_data/Cover/28292.jpg,0,0,0\n",
      "data/resized_data/Cover/75205.jpg,0,0,0\n",
      "data/resized_data/Cover/75472.jpg,0,0,3\n",
      "data/resized_data/Cover/32819.jpg,0,0,4\n",
      "data/resized_data/Cover/66313.jpg,0,0,1\n",
      "data/resized_data/Cover/42993.jpg,0,0,3\n",
      "data/resized_data/Cover/70794.jpg,0,0,2\n",
      "data/resized_data/Cover/34805.jpg,0,0,3\n",
      "data/resized_data/Cover/13039.jpg,0,0,2\n"
     ]
    }
   ],
   "source": [
    "!head ../data/combined.csv"
   ]
  },
  {
   "cell_type": "code",
   "execution_count": null,
   "metadata": {},
   "outputs": [],
   "source": []
  }
 ],
 "metadata": {
  "kernelspec": {
   "display_name": "Python 3.7.4 64-bit ('torch': conda)",
   "language": "python",
   "name": "python37464bittorchcondab46d9803850a4193b40c5aded830a323"
  },
  "language_info": {
   "codemirror_mode": {
    "name": "ipython",
    "version": 3
   },
   "file_extension": ".py",
   "mimetype": "text/x-python",
   "name": "python",
   "nbconvert_exporter": "python",
   "pygments_lexer": "ipython3",
   "version": "3.7.4"
  }
 },
 "nbformat": 4,
 "nbformat_minor": 4
}
